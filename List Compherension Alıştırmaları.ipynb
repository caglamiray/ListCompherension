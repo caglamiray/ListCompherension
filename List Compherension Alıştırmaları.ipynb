{
 "cells": [
  {
   "cell_type": "code",
   "execution_count": 1,
   "id": "821bc3f1",
   "metadata": {},
   "outputs": [],
   "source": [
    "#Görev 1: List Comprehension yapısını kullanarak car_crashes verisindeki numeric değişkenlerin isimlerini büyük harfe çeviriniz\n",
    "#ve başına NUM ekleyiniz"
   ]
  },
  {
   "cell_type": "code",
   "execution_count": 6,
   "id": "ed9aa0b9",
   "metadata": {},
   "outputs": [],
   "source": [
    "import seaborn as sns\n",
    "import pandas as pd"
   ]
  },
  {
   "cell_type": "code",
   "execution_count": 7,
   "id": "e3111ca9",
   "metadata": {},
   "outputs": [],
   "source": [
    "pd.set_option('display.max_rows' , None) #Tüm satırları görüntülemek için\n",
    "pd.set_option('display.max_columns' , None) #Tüm sütunları görüntülemek için\n",
    "pd.set_option('display.width' , 500) #Df'in genişlik ayarı seçilmiş = 500"
   ]
  },
  {
   "cell_type": "code",
   "execution_count": 8,
   "id": "f52aa54e",
   "metadata": {},
   "outputs": [
    {
     "data": {
      "text/plain": [
       "Index(['total', 'speeding', 'alcohol', 'not_distracted', 'no_previous', 'ins_premium', 'ins_losses', 'abbrev'], dtype='object')"
      ]
     },
     "execution_count": 8,
     "metadata": {},
     "output_type": "execute_result"
    }
   ],
   "source": [
    "df = sns.load_dataset(\"car_crashes\")\n",
    "df.columns"
   ]
  },
  {
   "cell_type": "code",
   "execution_count": 12,
   "id": "66866f32",
   "metadata": {},
   "outputs": [
    {
     "name": "stdout",
     "output_type": "stream",
     "text": [
      "<class 'pandas.core.frame.DataFrame'>\n",
      "RangeIndex: 51 entries, 0 to 50\n",
      "Data columns (total 8 columns):\n",
      " #   Column          Non-Null Count  Dtype  \n",
      "---  ------          --------------  -----  \n",
      " 0   total           51 non-null     float64\n",
      " 1   speeding        51 non-null     float64\n",
      " 2   alcohol         51 non-null     float64\n",
      " 3   not_distracted  51 non-null     float64\n",
      " 4   no_previous     51 non-null     float64\n",
      " 5   ins_premium     51 non-null     float64\n",
      " 6   ins_losses      51 non-null     float64\n",
      " 7   abbrev          51 non-null     object \n",
      "dtypes: float64(7), object(1)\n",
      "memory usage: 3.3+ KB\n"
     ]
    }
   ],
   "source": [
    "df.info()  #veri tiplerini görmek için kullanılır"
   ]
  },
  {
   "cell_type": "code",
   "execution_count": 10,
   "id": "e31f6e10",
   "metadata": {},
   "outputs": [
    {
     "data": {
      "text/plain": [
       "<bound method NDFrame.head of     total  speeding  alcohol  not_distracted  no_previous  ins_premium  ins_losses abbrev\n",
       "0    18.8     7.332    5.640          18.048       15.040       784.55      145.08     AL\n",
       "1    18.1     7.421    4.525          16.290       17.014      1053.48      133.93     AK\n",
       "2    18.6     6.510    5.208          15.624       17.856       899.47      110.35     AZ\n",
       "3    22.4     4.032    5.824          21.056       21.280       827.34      142.39     AR\n",
       "4    12.0     4.200    3.360          10.920       10.680       878.41      165.63     CA\n",
       "5    13.6     5.032    3.808          10.744       12.920       835.50      139.91     CO\n",
       "6    10.8     4.968    3.888           9.396        8.856      1068.73      167.02     CT\n",
       "7    16.2     6.156    4.860          14.094       16.038      1137.87      151.48     DE\n",
       "8     5.9     2.006    1.593           5.900        5.900      1273.89      136.05     DC\n",
       "9    17.9     3.759    5.191          16.468       16.826      1160.13      144.18     FL\n",
       "10   15.6     2.964    3.900          14.820       14.508       913.15      142.80     GA\n",
       "11   17.5     9.450    7.175          14.350       15.225       861.18      120.92     HI\n",
       "12   15.3     5.508    4.437          13.005       14.994       641.96       82.75     ID\n",
       "13   12.8     4.608    4.352          12.032       12.288       803.11      139.15     IL\n",
       "14   14.5     3.625    4.205          13.775       13.775       710.46      108.92     IN\n",
       "15   15.7     2.669    3.925          15.229       13.659       649.06      114.47     IA\n",
       "16   17.8     4.806    4.272          13.706       15.130       780.45      133.80     KS\n",
       "17   21.4     4.066    4.922          16.692       16.264       872.51      137.13     KY\n",
       "18   20.5     7.175    6.765          14.965       20.090      1281.55      194.78     LA\n",
       "19   15.1     5.738    4.530          13.137       12.684       661.88       96.57     ME\n",
       "20   12.5     4.250    4.000           8.875       12.375      1048.78      192.70     MD\n",
       "21    8.2     1.886    2.870           7.134        6.560      1011.14      135.63     MA\n",
       "22   14.1     3.384    3.948          13.395       10.857      1110.61      152.26     MI\n",
       "23    9.6     2.208    2.784           8.448        8.448       777.18      133.35     MN\n",
       "24   17.6     2.640    5.456           1.760       17.600       896.07      155.77     MS\n",
       "25   16.1     6.923    5.474          14.812       13.524       790.32      144.45     MO\n",
       "26   21.4     8.346    9.416          17.976       18.190       816.21       85.15     MT\n",
       "27   14.9     1.937    5.215          13.857       13.410       732.28      114.82     NE\n",
       "28   14.7     5.439    4.704          13.965       14.553      1029.87      138.71     NV\n",
       "29   11.6     4.060    3.480          10.092        9.628       746.54      120.21     NH\n",
       "30   11.2     1.792    3.136           9.632        8.736      1301.52      159.85     NJ\n",
       "31   18.4     3.496    4.968          12.328       18.032       869.85      120.75     NM\n",
       "32   12.3     3.936    3.567          10.824        9.840      1234.31      150.01     NY\n",
       "33   16.8     6.552    5.208          15.792       13.608       708.24      127.82     NC\n",
       "34   23.9     5.497   10.038          23.661       20.554       688.75      109.72     ND\n",
       "35   14.1     3.948    4.794          13.959       11.562       697.73      133.52     OH\n",
       "36   19.9     6.368    5.771          18.308       18.706       881.51      178.86     OK\n",
       "37   12.8     4.224    3.328           8.576       11.520       804.71      104.61     OR\n",
       "38   18.2     9.100    5.642          17.472       16.016       905.99      153.86     PA\n",
       "39   11.1     3.774    4.218          10.212        8.769      1148.99      148.58     RI\n",
       "40   23.9     9.082    9.799          22.944       19.359       858.97      116.29     SC\n",
       "41   19.4     6.014    6.402          19.012       16.684       669.31       96.87     SD\n",
       "42   19.5     4.095    5.655          15.990       15.795       767.91      155.57     TN\n",
       "43   19.4     7.760    7.372          17.654       16.878      1004.75      156.83     TX\n",
       "44   11.3     4.859    1.808           9.944       10.848       809.38      109.48     UT\n",
       "45   13.6     4.080    4.080          13.056       12.920       716.20      109.61     VT\n",
       "46   12.7     2.413    3.429          11.049       11.176       768.95      153.72     VA\n",
       "47   10.6     4.452    3.498           8.692        9.116       890.03      111.62     WA\n",
       "48   23.8     8.092    6.664          23.086       20.706       992.61      152.56     WV\n",
       "49   13.8     4.968    4.554           5.382       11.592       670.31      106.62     WI\n",
       "50   17.4     7.308    5.568          14.094       15.660       791.14      122.04     WY>"
      ]
     },
     "execution_count": 10,
     "metadata": {},
     "output_type": "execute_result"
    }
   ],
   "source": [
    "df.head"
   ]
  },
  {
   "cell_type": "code",
   "execution_count": 14,
   "id": "208509d6",
   "metadata": {},
   "outputs": [
    {
     "data": {
      "text/plain": [
       "['NUM_TOTAL',\n",
       " 'NUM_SPEEDING',\n",
       " 'NUM_ALCOHOL',\n",
       " 'NUM_NOT_DISTRACTED',\n",
       " 'NUM_NO_PREVIOUS',\n",
       " 'NUM_INS_PREMIUM',\n",
       " 'NUM_INS_LOSSES',\n",
       " 'ABBREV']"
      ]
     },
     "execution_count": 14,
     "metadata": {},
     "output_type": "execute_result"
    }
   ],
   "source": [
    "#önce for yazıldı sonra if yazıldı sonra numlu kısım yazıldı sonra else yazıldı\n",
    "\n",
    "[\"NUM_\" + col.upper() if df[col].dtype != \"O\" else col.upper() for col in df.columns]"
   ]
  },
  {
   "cell_type": "code",
   "execution_count": 15,
   "id": "951d1a48",
   "metadata": {},
   "outputs": [],
   "source": [
    "#Görev 2: List Comprehension yapısı kullanarak car_crashes verisinde isminde \"no\" barındırmayan değişkenlerin isimlerinin sonuna\n",
    "#\"FLAG\" yazınız"
   ]
  },
  {
   "cell_type": "code",
   "execution_count": 16,
   "id": "4adb542b",
   "metadata": {},
   "outputs": [
    {
     "data": {
      "text/plain": [
       "['TOTAL_FLAG',\n",
       " 'SPEEDING_FLAG',\n",
       " 'ALCOHOL_FLAG',\n",
       " 'NOT_DISTRACTED',\n",
       " 'NO_PREVIOUS',\n",
       " 'INS_PREMIUM_FLAG',\n",
       " 'INS_LOSSES_FLAG',\n",
       " 'ABBREV_FLAG']"
      ]
     },
     "execution_count": 16,
     "metadata": {},
     "output_type": "execute_result"
    }
   ],
   "source": [
    "[col.upper() + \"_FLAG\" if \"no\" not in col else col.upper() for col in df.columns]"
   ]
  },
  {
   "cell_type": "code",
   "execution_count": 17,
   "id": "658ac944",
   "metadata": {},
   "outputs": [],
   "source": [
    "#Görev 3:  List Comprehension yapısı kullanarak aşağıda verilen değişken isimlerinden FARKLI olan değişkenlerin isimlerini \n",
    "#seçiniz ve yeni bir data frame oluşturunuz"
   ]
  },
  {
   "cell_type": "code",
   "execution_count": 18,
   "id": "a3ef9dca",
   "metadata": {},
   "outputs": [],
   "source": [
    "og_list = [\"abbrev\" , \"no_previous\"]"
   ]
  },
  {
   "cell_type": "code",
   "execution_count": 26,
   "id": "9ce3cbb7",
   "metadata": {},
   "outputs": [],
   "source": [
    "#new_cols adında bir liste oluşturduk ve bu listeye og_list içinde olmayanları aldık\n",
    "new_cols = [col for col in df.columns if col not in og_list]"
   ]
  },
  {
   "cell_type": "code",
   "execution_count": 27,
   "id": "048f56fc",
   "metadata": {},
   "outputs": [],
   "source": [
    "new_df = df[new_cols] #yeni bir df oluşturduk ve adını new_df koyduk"
   ]
  },
  {
   "cell_type": "code",
   "execution_count": 25,
   "id": "22f803d1",
   "metadata": {},
   "outputs": [
    {
     "data": {
      "text/html": [
       "<div>\n",
       "<style scoped>\n",
       "    .dataframe tbody tr th:only-of-type {\n",
       "        vertical-align: middle;\n",
       "    }\n",
       "\n",
       "    .dataframe tbody tr th {\n",
       "        vertical-align: top;\n",
       "    }\n",
       "\n",
       "    .dataframe thead th {\n",
       "        text-align: right;\n",
       "    }\n",
       "</style>\n",
       "<table border=\"1\" class=\"dataframe\">\n",
       "  <thead>\n",
       "    <tr style=\"text-align: right;\">\n",
       "      <th></th>\n",
       "      <th>total</th>\n",
       "      <th>speeding</th>\n",
       "      <th>alcohol</th>\n",
       "      <th>not_distracted</th>\n",
       "      <th>ins_premium</th>\n",
       "      <th>ins_losses</th>\n",
       "    </tr>\n",
       "  </thead>\n",
       "  <tbody>\n",
       "    <tr>\n",
       "      <th>0</th>\n",
       "      <td>18.8</td>\n",
       "      <td>7.332</td>\n",
       "      <td>5.640</td>\n",
       "      <td>18.048</td>\n",
       "      <td>784.55</td>\n",
       "      <td>145.08</td>\n",
       "    </tr>\n",
       "    <tr>\n",
       "      <th>1</th>\n",
       "      <td>18.1</td>\n",
       "      <td>7.421</td>\n",
       "      <td>4.525</td>\n",
       "      <td>16.290</td>\n",
       "      <td>1053.48</td>\n",
       "      <td>133.93</td>\n",
       "    </tr>\n",
       "    <tr>\n",
       "      <th>2</th>\n",
       "      <td>18.6</td>\n",
       "      <td>6.510</td>\n",
       "      <td>5.208</td>\n",
       "      <td>15.624</td>\n",
       "      <td>899.47</td>\n",
       "      <td>110.35</td>\n",
       "    </tr>\n",
       "    <tr>\n",
       "      <th>3</th>\n",
       "      <td>22.4</td>\n",
       "      <td>4.032</td>\n",
       "      <td>5.824</td>\n",
       "      <td>21.056</td>\n",
       "      <td>827.34</td>\n",
       "      <td>142.39</td>\n",
       "    </tr>\n",
       "    <tr>\n",
       "      <th>4</th>\n",
       "      <td>12.0</td>\n",
       "      <td>4.200</td>\n",
       "      <td>3.360</td>\n",
       "      <td>10.920</td>\n",
       "      <td>878.41</td>\n",
       "      <td>165.63</td>\n",
       "    </tr>\n",
       "  </tbody>\n",
       "</table>\n",
       "</div>"
      ],
      "text/plain": [
       "   total  speeding  alcohol  not_distracted  ins_premium  ins_losses\n",
       "0   18.8     7.332    5.640          18.048       784.55      145.08\n",
       "1   18.1     7.421    4.525          16.290      1053.48      133.93\n",
       "2   18.6     6.510    5.208          15.624       899.47      110.35\n",
       "3   22.4     4.032    5.824          21.056       827.34      142.39\n",
       "4   12.0     4.200    3.360          10.920       878.41      165.63"
      ]
     },
     "execution_count": 25,
     "metadata": {},
     "output_type": "execute_result"
    }
   ],
   "source": [
    "new_df.head()"
   ]
  }
 ],
 "metadata": {
  "kernelspec": {
   "display_name": "Python 3 (ipykernel)",
   "language": "python",
   "name": "python3"
  },
  "language_info": {
   "codemirror_mode": {
    "name": "ipython",
    "version": 3
   },
   "file_extension": ".py",
   "mimetype": "text/x-python",
   "name": "python",
   "nbconvert_exporter": "python",
   "pygments_lexer": "ipython3",
   "version": "3.11.4"
  }
 },
 "nbformat": 4,
 "nbformat_minor": 5
}
